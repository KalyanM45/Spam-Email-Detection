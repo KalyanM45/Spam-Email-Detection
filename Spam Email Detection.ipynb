{
 "cells": [
  {
   "cell_type": "markdown",
   "id": "501c40e2",
   "metadata": {},
   "source": [
    "IMPORTING REQUIRED LIBRARIES"
   ]
  },
  {
   "cell_type": "code",
   "execution_count": 1,
   "id": "cc1c8862",
   "metadata": {},
   "outputs": [],
   "source": [
    "import warnings \n",
    "warnings.simplefilter('ignore')\n",
    "\n",
    "import numpy as np\n",
    "import pandas as pd\n",
    "import matplotlib.pyplot as plt\n",
    "\n",
    "from sklearn.model_selection import train_test_split\n",
    "from sklearn.feature_extraction.text import TfidfVectorizer\n",
    "\n",
    "from sklearn.metrics import accuracy_score\n",
    "from sklearn.metrics import precision_score\n",
    "from sklearn.metrics import recall_score\n",
    "from sklearn.metrics import f1_score"
   ]
  },
  {
   "cell_type": "markdown",
   "id": "479d50d3",
   "metadata": {},
   "source": [
    "IMPORTING MACHINE LEARNING MODELS"
   ]
  },
  {
   "cell_type": "code",
   "execution_count": 2,
   "id": "91d47f14",
   "metadata": {},
   "outputs": [],
   "source": [
    "from sklearn.linear_model import LogisticRegression\n",
    "from sklearn.tree import DecisionTreeClassifier\n",
    "from sklearn.svm import SVC\n",
    "from sklearn.neighbors import KNeighborsClassifier\n",
    "from sklearn.ensemble import RandomForestClassifier\n",
    "from sklearn.naive_bayes import GaussianNB"
   ]
  },
  {
   "cell_type": "markdown",
   "id": "3022ab5b",
   "metadata": {},
   "source": [
    "DATA COLLECTION AND PREPROCESSING"
   ]
  },
  {
   "cell_type": "code",
   "execution_count": 8,
   "id": "cc348497",
   "metadata": {},
   "outputs": [
    {
     "data": {
      "text/html": [
       "<div>\n",
       "<style scoped>\n",
       "    .dataframe tbody tr th:only-of-type {\n",
       "        vertical-align: middle;\n",
       "    }\n",
       "\n",
       "    .dataframe tbody tr th {\n",
       "        vertical-align: top;\n",
       "    }\n",
       "\n",
       "    .dataframe thead th {\n",
       "        text-align: right;\n",
       "    }\n",
       "</style>\n",
       "<table border=\"1\" class=\"dataframe\">\n",
       "  <thead>\n",
       "    <tr style=\"text-align: right;\">\n",
       "      <th></th>\n",
       "      <th>Category</th>\n",
       "      <th>Message</th>\n",
       "      <th>Unnamed: 2</th>\n",
       "      <th>Unnamed: 3</th>\n",
       "      <th>Unnamed: 4</th>\n",
       "    </tr>\n",
       "  </thead>\n",
       "  <tbody>\n",
       "    <tr>\n",
       "      <th>0</th>\n",
       "      <td>ham</td>\n",
       "      <td>Go until jurong point, crazy.. Available only ...</td>\n",
       "      <td>NaN</td>\n",
       "      <td>NaN</td>\n",
       "      <td>NaN</td>\n",
       "    </tr>\n",
       "    <tr>\n",
       "      <th>1</th>\n",
       "      <td>ham</td>\n",
       "      <td>Ok lar... Joking wif u oni...</td>\n",
       "      <td>NaN</td>\n",
       "      <td>NaN</td>\n",
       "      <td>NaN</td>\n",
       "    </tr>\n",
       "    <tr>\n",
       "      <th>2</th>\n",
       "      <td>spam</td>\n",
       "      <td>Free entry in 2 a wkly comp to win FA Cup fina...</td>\n",
       "      <td>NaN</td>\n",
       "      <td>NaN</td>\n",
       "      <td>NaN</td>\n",
       "    </tr>\n",
       "    <tr>\n",
       "      <th>3</th>\n",
       "      <td>ham</td>\n",
       "      <td>U dun say so early hor... U c already then say...</td>\n",
       "      <td>NaN</td>\n",
       "      <td>NaN</td>\n",
       "      <td>NaN</td>\n",
       "    </tr>\n",
       "    <tr>\n",
       "      <th>4</th>\n",
       "      <td>ham</td>\n",
       "      <td>Nah I don't think he goes to usf, he lives aro...</td>\n",
       "      <td>NaN</td>\n",
       "      <td>NaN</td>\n",
       "      <td>NaN</td>\n",
       "    </tr>\n",
       "    <tr>\n",
       "      <th>...</th>\n",
       "      <td>...</td>\n",
       "      <td>...</td>\n",
       "      <td>...</td>\n",
       "      <td>...</td>\n",
       "      <td>...</td>\n",
       "    </tr>\n",
       "    <tr>\n",
       "      <th>5567</th>\n",
       "      <td>spam</td>\n",
       "      <td>This is the 2nd time we have tried 2 contact u...</td>\n",
       "      <td>NaN</td>\n",
       "      <td>NaN</td>\n",
       "      <td>NaN</td>\n",
       "    </tr>\n",
       "    <tr>\n",
       "      <th>5568</th>\n",
       "      <td>ham</td>\n",
       "      <td>Will Ì_ b going to esplanade fr home?</td>\n",
       "      <td>NaN</td>\n",
       "      <td>NaN</td>\n",
       "      <td>NaN</td>\n",
       "    </tr>\n",
       "    <tr>\n",
       "      <th>5569</th>\n",
       "      <td>ham</td>\n",
       "      <td>Pity, * was in mood for that. So...any other s...</td>\n",
       "      <td>NaN</td>\n",
       "      <td>NaN</td>\n",
       "      <td>NaN</td>\n",
       "    </tr>\n",
       "    <tr>\n",
       "      <th>5570</th>\n",
       "      <td>ham</td>\n",
       "      <td>The guy did some bitching but I acted like i'd...</td>\n",
       "      <td>NaN</td>\n",
       "      <td>NaN</td>\n",
       "      <td>NaN</td>\n",
       "    </tr>\n",
       "    <tr>\n",
       "      <th>5571</th>\n",
       "      <td>ham</td>\n",
       "      <td>Rofl. Its true to its name</td>\n",
       "      <td>NaN</td>\n",
       "      <td>NaN</td>\n",
       "      <td>NaN</td>\n",
       "    </tr>\n",
       "  </tbody>\n",
       "</table>\n",
       "<p>5572 rows × 5 columns</p>\n",
       "</div>"
      ],
      "text/plain": [
       "     Category                                            Message Unnamed: 2  \\\n",
       "0         ham  Go until jurong point, crazy.. Available only ...        NaN   \n",
       "1         ham                      Ok lar... Joking wif u oni...        NaN   \n",
       "2        spam  Free entry in 2 a wkly comp to win FA Cup fina...        NaN   \n",
       "3         ham  U dun say so early hor... U c already then say...        NaN   \n",
       "4         ham  Nah I don't think he goes to usf, he lives aro...        NaN   \n",
       "...       ...                                                ...        ...   \n",
       "5567     spam  This is the 2nd time we have tried 2 contact u...        NaN   \n",
       "5568      ham              Will Ì_ b going to esplanade fr home?        NaN   \n",
       "5569      ham  Pity, * was in mood for that. So...any other s...        NaN   \n",
       "5570      ham  The guy did some bitching but I acted like i'd...        NaN   \n",
       "5571      ham                         Rofl. Its true to its name        NaN   \n",
       "\n",
       "     Unnamed: 3 Unnamed: 4  \n",
       "0           NaN        NaN  \n",
       "1           NaN        NaN  \n",
       "2           NaN        NaN  \n",
       "3           NaN        NaN  \n",
       "4           NaN        NaN  \n",
       "...         ...        ...  \n",
       "5567        NaN        NaN  \n",
       "5568        NaN        NaN  \n",
       "5569        NaN        NaN  \n",
       "5570        NaN        NaN  \n",
       "5571        NaN        NaN  \n",
       "\n",
       "[5572 rows x 5 columns]"
      ]
     },
     "execution_count": 8,
     "metadata": {},
     "output_type": "execute_result"
    }
   ],
   "source": [
    "df =  pd.read_csv(r\"C:\\Users\\KALYAN\\Desktop\\Machine Learning\\SPAM.csv\")\n",
    "df"
   ]
  },
  {
   "cell_type": "code",
   "execution_count": 9,
   "id": "74567d76",
   "metadata": {},
   "outputs": [],
   "source": [
    "data = df.drop(labels=['Unnamed: 2', 'Unnamed: 3', 'Unnamed: 4'], axis=1)"
   ]
  },
  {
   "cell_type": "markdown",
   "id": "ddebf35a",
   "metadata": {},
   "source": [
    "CHECKING NULL VALUES"
   ]
  },
  {
   "cell_type": "code",
   "execution_count": 10,
   "id": "dd6c7cb4",
   "metadata": {},
   "outputs": [
    {
     "data": {
      "text/plain": [
       "Category    0\n",
       "Message     0\n",
       "dtype: int64"
      ]
     },
     "execution_count": 10,
     "metadata": {},
     "output_type": "execute_result"
    }
   ],
   "source": [
    "data.isnull().sum()"
   ]
  },
  {
   "cell_type": "markdown",
   "id": "4315484c",
   "metadata": {},
   "source": [
    "LABEL ENCODING\n",
    "\n",
    "HAM IS REPRESENTED BY 1  &  SPAM IS REPRESENTED BY 0 "
   ]
  },
  {
   "cell_type": "code",
   "execution_count": 11,
   "id": "2e2f82d4",
   "metadata": {},
   "outputs": [
    {
     "data": {
      "text/plain": [
       "Category    object\n",
       "Message     object\n",
       "dtype: object"
      ]
     },
     "execution_count": 11,
     "metadata": {},
     "output_type": "execute_result"
    }
   ],
   "source": [
    "data.dtypes"
   ]
  },
  {
   "cell_type": "code",
   "execution_count": 16,
   "id": "5a48466b",
   "metadata": {},
   "outputs": [],
   "source": [
    "data.loc[data['Category'] == 'spam', 'Category',] = 0\n",
    "data.loc[data['Category'] == 'ham', 'Category',] = 1"
   ]
  },
  {
   "cell_type": "code",
   "execution_count": 17,
   "id": "0c1bc1f2",
   "metadata": {},
   "outputs": [
    {
     "data": {
      "text/plain": [
       "1    4825\n",
       "0     747\n",
       "Name: Category, dtype: int64"
      ]
     },
     "execution_count": 17,
     "metadata": {},
     "output_type": "execute_result"
    }
   ],
   "source": [
    "data['Category'].value_counts()"
   ]
  },
  {
   "cell_type": "markdown",
   "id": "d4b02e7d",
   "metadata": {},
   "source": [
    "SEPARATING THE DATA AS TEXT AND LABEL"
   ]
  },
  {
   "cell_type": "code",
   "execution_count": 19,
   "id": "e0c4d4f1",
   "metadata": {},
   "outputs": [],
   "source": [
    "X = data['Message']\n",
    "\n",
    "Y = data['Category']"
   ]
  },
  {
   "cell_type": "code",
   "execution_count": 20,
   "id": "2e966f37",
   "metadata": {},
   "outputs": [
    {
     "name": "stdout",
     "output_type": "stream",
     "text": [
      "0       Go until jurong point, crazy.. Available only ...\n",
      "1                           Ok lar... Joking wif u oni...\n",
      "2       Free entry in 2 a wkly comp to win FA Cup fina...\n",
      "3       U dun say so early hor... U c already then say...\n",
      "4       Nah I don't think he goes to usf, he lives aro...\n",
      "                              ...                        \n",
      "5567    This is the 2nd time we have tried 2 contact u...\n",
      "5568                Will Ì_ b going to esplanade fr home?\n",
      "5569    Pity, * was in mood for that. So...any other s...\n",
      "5570    The guy did some bitching but I acted like i'd...\n",
      "5571                           Rofl. Its true to its name\n",
      "Name: Message, Length: 5572, dtype: object\n"
     ]
    }
   ],
   "source": [
    "print(X)"
   ]
  },
  {
   "cell_type": "code",
   "execution_count": 21,
   "id": "53ede04d",
   "metadata": {},
   "outputs": [
    {
     "name": "stdout",
     "output_type": "stream",
     "text": [
      "0       1\n",
      "1       1\n",
      "2       0\n",
      "3       1\n",
      "4       1\n",
      "       ..\n",
      "5567    0\n",
      "5568    1\n",
      "5569    1\n",
      "5570    1\n",
      "5571    1\n",
      "Name: Category, Length: 5572, dtype: object\n"
     ]
    }
   ],
   "source": [
    "print(Y)"
   ]
  },
  {
   "cell_type": "markdown",
   "id": "cd30cc4b",
   "metadata": {},
   "source": [
    "SPLITTING THE DATA INTO TRAINING AND TESTING DATA"
   ]
  },
  {
   "cell_type": "code",
   "execution_count": 22,
   "id": "e5fcf412",
   "metadata": {},
   "outputs": [],
   "source": [
    "X_train, X_test, Y_train, Y_test = train_test_split(X, Y, test_size=0.2, random_state=3)"
   ]
  },
  {
   "cell_type": "code",
   "execution_count": 23,
   "id": "711f5006",
   "metadata": {},
   "outputs": [
    {
     "name": "stdout",
     "output_type": "stream",
     "text": [
      "(5572,)\n",
      "(4457,)\n",
      "(1115,)\n"
     ]
    }
   ],
   "source": [
    "print(X.shape)\n",
    "print(X_train.shape)\n",
    "print(X_test.shape)"
   ]
  },
  {
   "cell_type": "markdown",
   "id": "1a134f03",
   "metadata": {},
   "source": [
    "FEATURE EXTRACTION"
   ]
  },
  {
   "cell_type": "markdown",
   "id": "e5d94ce7",
   "metadata": {},
   "source": [
    "TRANSFORMING THE TEXT DATA INTO NUMERICAL VALUES"
   ]
  },
  {
   "cell_type": "code",
   "execution_count": 24,
   "id": "a8fdbc37",
   "metadata": {},
   "outputs": [],
   "source": [
    "feature_extraction = TfidfVectorizer(min_df = 1, stop_words='english', lowercase = 'True')\n",
    "\n",
    "X_train_features = feature_extraction.fit_transform(X_train)\n",
    "X_test_features = feature_extraction.transform(X_test)\n",
    "\n",
    "# CONVERTING Y_train and Y_test VALUES AS INTEGERS\n",
    "Y_train = Y_train.astype('int')\n",
    "Y_test = Y_test.astype('int')"
   ]
  },
  {
   "cell_type": "code",
   "execution_count": 25,
   "id": "124c387b",
   "metadata": {},
   "outputs": [
    {
     "data": {
      "text/plain": [
       "<4457x7511 sparse matrix of type '<class 'numpy.float64'>'\n",
       "\twith 34759 stored elements in Compressed Sparse Row format>"
      ]
     },
     "execution_count": 25,
     "metadata": {},
     "output_type": "execute_result"
    }
   ],
   "source": [
    "X_train_features"
   ]
  },
  {
   "cell_type": "code",
   "execution_count": 26,
   "id": "0387007f",
   "metadata": {},
   "outputs": [
    {
     "name": "stdout",
     "output_type": "stream",
     "text": [
      "3075    1\n",
      "1787    1\n",
      "1614    1\n",
      "4304    1\n",
      "3266    1\n",
      "       ..\n",
      "789     1\n",
      "968     1\n",
      "1667    1\n",
      "3321    1\n",
      "1688    1\n",
      "Name: Category, Length: 4457, dtype: int32\n"
     ]
    }
   ],
   "source": [
    "print(Y_train)"
   ]
  },
  {
   "cell_type": "markdown",
   "id": "4eebd40a",
   "metadata": {},
   "source": [
    "# TRAINING THE MODEL"
   ]
  },
  {
   "cell_type": "markdown",
   "id": "74683297",
   "metadata": {},
   "source": [
    "# LOGISTIC REGRESSION"
   ]
  },
  {
   "cell_type": "code",
   "execution_count": 29,
   "id": "fdb86511",
   "metadata": {},
   "outputs": [
    {
     "name": "stdout",
     "output_type": "stream",
     "text": [
      "Testing Data Accuracy of Logistic Regression: 96.23 %\n",
      "\n",
      "Training Data Accuracy of Logistic Regression: 96.61 %\n",
      "\n",
      "Precision: 0.959\n",
      "\n",
      "Recall: 0.9989583333333333\n",
      "\n",
      "F1 Score: 0.9785714285714285\n"
     ]
    }
   ],
   "source": [
    "lregression = LogisticRegression(max_iter=1000)\n",
    "\n",
    "lregression.fit(X_train_features, Y_train)\n",
    "\n",
    "testdata1 = lregression.predict(X_test_features)\n",
    "        \n",
    "accuracy1 = accuracy_score(Y_test, testdata1)\n",
    "                \n",
    "print(\"Testing Data Accuracy of Logistic Regression:\", round(accuracy1*100, 2), \"%\")\n",
    "\n",
    "\n",
    "traindata1 = lregression.predict(X_train_features)\n",
    "        \n",
    "acc1 = accuracy_score(Y_train, traindata1)\n",
    "                \n",
    "print(\"\\nTraining Data Accuracy of Logistic Regression:\", round(acc1*100, 2), \"%\")\n",
    "\n",
    "\n",
    "precision_test_lr = precision_score(Y_test, testdata1)\n",
    "\n",
    "print(\"\\nPrecision:\", precision_test_lr)\n",
    "\n",
    "\n",
    "recall_test_lr = recall_score(Y_test, testdata1)\n",
    "\n",
    "print(\"\\nRecall:\", recall_test_lr)\n",
    "\n",
    "\n",
    "f1_test_lr = f1_score(Y_test, testdata1)\n",
    "\n",
    "print(\"\\nF1 Score:\", f1_test_lr)"
   ]
  },
  {
   "cell_type": "markdown",
   "id": "3398ca05",
   "metadata": {},
   "source": [
    "# DECISION TREES"
   ]
  },
  {
   "cell_type": "code",
   "execution_count": 30,
   "id": "669b602f",
   "metadata": {},
   "outputs": [
    {
     "name": "stdout",
     "output_type": "stream",
     "text": [
      "Testing Data Accuracy of Decision Trees: 97.13 %\n",
      "\n",
      "Training Data Accuracy of Decision Trees: 100.0 %\n",
      "\n",
      "Precision: 0.9783505154639175\n",
      "\n",
      "Recall: 0.9885416666666667\n",
      "\n",
      "F1 Score: 0.9834196891191711\n"
     ]
    }
   ],
   "source": [
    "dtrees = DecisionTreeClassifier()\n",
    "\n",
    "dtrees.fit(X_train_features, Y_train)\n",
    "\n",
    "testdata2 = dtrees.predict(X_test_features)\n",
    "\n",
    "accuracy2 = accuracy_score(Y_test, testdata2)\n",
    "\n",
    "print(\"Testing Data Accuracy of Decision Trees:\", round(accuracy2*100, 2), \"%\")\n",
    "\n",
    "\n",
    "traindata2 = dtrees.predict(X_train_features)\n",
    "        \n",
    "acc2 = accuracy_score(Y_train, traindata2)\n",
    "                \n",
    "print(\"\\nTraining Data Accuracy of Decision Trees:\", round(acc2*100, 2), \"%\")\n",
    "\n",
    "\n",
    "precision_test_dt = precision_score(Y_test, testdata2)\n",
    "\n",
    "print(\"\\nPrecision:\", precision_test_dt)\n",
    "\n",
    "\n",
    "recall_test_dt = recall_score(Y_test, testdata2)\n",
    "\n",
    "print(\"\\nRecall:\", recall_test_dt)\n",
    "\n",
    "\n",
    "f1_test_dt = f1_score(Y_test, testdata2)\n",
    "\n",
    "print(\"\\nF1 Score:\", f1_test_dt)"
   ]
  },
  {
   "cell_type": "markdown",
   "id": "b8091f6a",
   "metadata": {},
   "source": [
    "# SUPPORT VECTOR MACHINE"
   ]
  },
  {
   "cell_type": "code",
   "execution_count": 31,
   "id": "ee664e31",
   "metadata": {
    "scrolled": true
   },
   "outputs": [
    {
     "name": "stdout",
     "output_type": "stream",
     "text": [
      "Testing Data Accuracy of Support Vector Machine: 98.39 %\n",
      "\n",
      "Training Data Accuracy of Support Vector Machine: 99.62 %\n",
      "\n",
      "Precision: 0.9825819672131147\n",
      "\n",
      "Recall: 0.9989583333333333\n",
      "\n",
      "F1 Score: 0.9907024793388429\n"
     ]
    }
   ],
   "source": [
    "svm = SVC(kernel='linear')\n",
    "\n",
    "svm.fit(X_train_features, Y_train)\n",
    "\n",
    "testdata3 = svm.predict(X_test_features)\n",
    "\n",
    "accuracy3 = accuracy_score(Y_test, testdata3)\n",
    "\n",
    "print(\"Testing Data Accuracy of Support Vector Machine:\", round(accuracy3*100, 2), \"%\")\n",
    "\n",
    "\n",
    "traindata3 = svm.predict(X_train_features)\n",
    "        \n",
    "acc3 = accuracy_score(Y_train, traindata3)\n",
    "                \n",
    "print(\"\\nTraining Data Accuracy of Support Vector Machine:\", round(acc3*100, 2), \"%\")\n",
    "\n",
    "\n",
    "precision_test_svm = precision_score(Y_test, testdata3)\n",
    "\n",
    "print(\"\\nPrecision:\", precision_test_svm)\n",
    "\n",
    "\n",
    "\n",
    "recall_test_svm = recall_score(Y_test, testdata3)\n",
    "\n",
    "print(\"\\nRecall:\", recall_test_svm)\n",
    "\n",
    "\n",
    "f1_test_svm = f1_score(Y_test, testdata3)\n",
    "\n",
    "print(\"\\nF1 Score:\", f1_test_svm)"
   ]
  },
  {
   "cell_type": "markdown",
   "id": "90ea91a3",
   "metadata": {},
   "source": [
    "# K NEAREST NEIGHBORS"
   ]
  },
  {
   "cell_type": "code",
   "execution_count": 32,
   "id": "47523a35",
   "metadata": {},
   "outputs": [
    {
     "name": "stdout",
     "output_type": "stream",
     "text": [
      "Testing Data Accuracy of K Nearest Neighbors: 90.58 %\n",
      "\n",
      "Training Data Accuracy of K Nearest Neighbors: 91.99 %\n",
      "\n",
      "Precision: 0.9014084507042254\n",
      "\n",
      "Recall: 1.0\n",
      "\n",
      "F1 Score: 0.9481481481481481\n"
     ]
    }
   ],
   "source": [
    "knn = KNeighborsClassifier()\n",
    "\n",
    "knn.fit(X_train_features, Y_train)\n",
    "\n",
    "testdata4 = knn.predict(X_test_features)\n",
    "\n",
    "accuracy4 = accuracy_score(Y_test, testdata4)\n",
    "\n",
    "print(\"Testing Data Accuracy of K Nearest Neighbors:\", round(accuracy4*100, 2), \"%\")\n",
    "\n",
    "\n",
    "traindata4 = knn.predict(X_train_features)\n",
    "        \n",
    "acc4 = accuracy_score(Y_train, traindata4)\n",
    "                \n",
    "print(\"\\nTraining Data Accuracy of K Nearest Neighbors:\", round(acc4*100, 2), \"%\")\n",
    "\n",
    "\n",
    "precision_test_knn = precision_score(Y_test, testdata4)\n",
    "\n",
    "print(\"\\nPrecision:\", precision_test_knn)\n",
    "\n",
    "\n",
    "recall_test_knn = recall_score(Y_test, testdata4)\n",
    "\n",
    "print(\"\\nRecall:\", recall_test_knn)\n",
    "\n",
    "\n",
    "f1_test_knn = f1_score(Y_test, testdata4)\n",
    "\n",
    "print(\"\\nF1 Score:\", f1_test_knn)"
   ]
  },
  {
   "cell_type": "markdown",
   "id": "43f66f5c",
   "metadata": {},
   "source": [
    "# RANDOM FOREST"
   ]
  },
  {
   "cell_type": "code",
   "execution_count": 33,
   "id": "bf28b066",
   "metadata": {},
   "outputs": [
    {
     "name": "stdout",
     "output_type": "stream",
     "text": [
      "Testing Data Accuracy of Random Forest: 97.85 %\n",
      "\n",
      "Training Data Accuracy of Random Forest: 100.0 %\n",
      "\n",
      "Precision: 0.9765784114052953\n",
      "\n",
      "Recall: 0.9989583333333333\n",
      "\n",
      "F1 Score: 0.9876416065911432\n"
     ]
    }
   ],
   "source": [
    "rf = RandomForestClassifier()\n",
    "\n",
    "rf.fit(X_train_features, Y_train)\n",
    "\n",
    "testdata5 = rf.predict(X_test_features)\n",
    "\n",
    "accuracy5 = accuracy_score(Y_test, testdata5)\n",
    "\n",
    "print(\"Testing Data Accuracy of Random Forest:\", round(accuracy5*100, 2), \"%\")\n",
    "\n",
    "\n",
    "traindata5 = rf.predict(X_train_features)\n",
    "        \n",
    "acc5 = accuracy_score(Y_train, traindata5)\n",
    "                \n",
    "print(\"\\nTraining Data Accuracy of Random Forest:\", round(acc5*100, 2), \"%\")\n",
    "\n",
    "\n",
    "precision_test_rf = precision_score(Y_test, testdata5)\n",
    "\n",
    "print(\"\\nPrecision:\", precision_test_rf)\n",
    "\n",
    "\n",
    "recall_test_rf = recall_score(Y_test, testdata5)\n",
    "\n",
    "print(\"\\nRecall:\", recall_test_rf)\n",
    "\n",
    "\n",
    "f1_test_rf = f1_score(Y_test, testdata5)\n",
    "\n",
    "print(\"\\nF1 Score:\", f1_test_rf)"
   ]
  },
  {
   "cell_type": "markdown",
   "id": "3c7bdba0",
   "metadata": {},
   "source": [
    "# NAIVE BAYES"
   ]
  },
  {
   "cell_type": "code",
   "execution_count": 34,
   "id": "17d7154c",
   "metadata": {},
   "outputs": [
    {
     "name": "stdout",
     "output_type": "stream",
     "text": [
      "Testing Data Accuracy of Naive Bayes: 90.31 %\n",
      "\n",
      "Training Data Accuracy of Naive Bayes: 93.7 %\n",
      "\n",
      "Precision: 0.9829931972789115\n",
      "\n",
      "Recall: 0.903125\n",
      "\n",
      "F1 Score: 0.9413680781758956\n"
     ]
    }
   ],
   "source": [
    "nb = GaussianNB()\n",
    "\n",
    "nb.fit(X_train_features.toarray(), Y_train)\n",
    "\n",
    "testdata6 = nb.predict(X_test_features.toarray())\n",
    "\n",
    "accuracy6 = accuracy_score(Y_test, testdata6)\n",
    "\n",
    "print(\"Testing Data Accuracy of Naive Bayes:\", round(accuracy6*100, 2), \"%\")\n",
    "\n",
    "\n",
    "traindata6 = nb.predict(X_train_features.toarray())\n",
    "        \n",
    "acc6 = accuracy_score(Y_train, traindata6)\n",
    "                \n",
    "print(\"\\nTraining Data Accuracy of Naive Bayes:\", round(acc6*100, 2), \"%\")\n",
    "\n",
    "\n",
    "precision_test_nb = precision_score(Y_test, testdata6)\n",
    "\n",
    "print(\"\\nPrecision:\", precision_test_nb)\n",
    "\n",
    "\n",
    "recall_test_nb = recall_score(Y_test, testdata6)\n",
    "\n",
    "print(\"\\nRecall:\", recall_test_nb)\n",
    "\n",
    "\n",
    "f1_test_nb = f1_score(Y_test, testdata6)\n",
    "\n",
    "print(\"\\nF1 Score:\", f1_test_nb)"
   ]
  },
  {
   "cell_type": "markdown",
   "id": "54f11882",
   "metadata": {},
   "source": [
    "#   Plotting Accuracy Graph"
   ]
  },
  {
   "cell_type": "code",
   "execution_count": 35,
   "id": "c2bf5803",
   "metadata": {},
   "outputs": [
    {
     "data": {
      "image/png": "[encoded data removed]",
      "text/plain": [
       "<Figure size 640x480 with 1 Axes>"
      ]
     },
     "metadata": {},
     "output_type": "display_data"
    }
   ],
   "source": [
    "alg = ['L_Rgr','DTree','SVM','KNN','RF','NB']\n",
    "acc = [accuracy1, accuracy2, accuracy3, accuracy4, accuracy5, accuracy6]\n",
    "plt.plot(alg,acc)\n",
    "plt.title(\"ACCURACY COMPARISION\")\n",
    "plt.show()"
   ]
  },
  {
   "cell_type": "markdown",
   "id": "f9ea2da2",
   "metadata": {},
   "source": [
    "# BUILDING A PREDICTIVE SYSTEM"
   ]
  },
  {
   "cell_type": "code",
   "execution_count": 24,
   "id": "b2b950ab",
   "metadata": {},
   "outputs": [
    {
     "name": "stdout",
     "output_type": "stream",
     "text": [
      "HAM MAIL\n"
     ]
    }
   ],
   "source": [
    "input_mail = [\"Hi this is  kalyan\"]\n",
    "\n",
    "input_mail_features = feature_extraction.transform(input_mail)\n",
    "\n",
    "prediction = svm.predict(input_mail_features)\n",
    "\n",
    "if(prediction == 0):\n",
    "    print(\"SPAM MAIL\")\n",
    "else:\n",
    "    print(\"HAM MAIL\")"
   ]
  }
 ],
 "metadata": {
  "kernelspec": {
   "display_name": "Python 3 (ipykernel)",
   "language": "python",
   "name": "python3"
  },
  "language_info": {
   "codemirror_mode": {
    "name": "ipython",
    "version": 3
   },
   "file_extension": ".py",
   "mimetype": "text/x-python",
   "name": "python",
   "nbconvert_exporter": "python",
   "pygments_lexer": "ipython3",
   "version": "3.9.13"
  }
 },
 "nbformat": 4,
 "nbformat_minor": 5
}
